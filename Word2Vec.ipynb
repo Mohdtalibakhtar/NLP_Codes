{
 "cells": [
  {
   "cell_type": "code",
   "execution_count": 4,
   "id": "0b51e4a8",
   "metadata": {},
   "outputs": [],
   "source": [
    "import nltk\n",
    "from gensim.models import Word2Vec\n",
    "from nltk.corpus import stopwords\n",
    "import re"
   ]
  },
  {
   "cell_type": "code",
   "execution_count": 5,
   "id": "ad1ba9fe",
   "metadata": {},
   "outputs": [],
   "source": [
    "paragraph = \"\"\"I have three visions for India. In 3000 years of our history, people from all over \n",
    "               the world have come and invaded us, captured our lands, conquered our minds. \n",
    "               From Alexander onwards, the Greeks, the Turks, the Moguls, the Portuguese, the British,\n",
    "               the French, the Dutch, all of them came and looted us, took over what was ours. \n",
    "               Yet we have not done this to any other nation. We have not conquered anyone. \n",
    "               We have not grabbed their land, their culture, \n",
    "               their history and tried to enforce our way of life on them. \n",
    "               Why? Because we respect the freedom of others.That is why my \n",
    "               first vision is that of freedom. I believe that India got its first vision of \n",
    "               this in 1857, when we started the War of Independence. It is this freedom that\n",
    "               we must protect and nurture and build on. If we are not free, no one will respect us.\n",
    "               My second vision for India’s development. For fifty years we have been a developing nation.\n",
    "               It is time we see ourselves as a developed nation. We are among the top 5 nations of the world\n",
    "               in terms of GDP. We have a 10 percent growth rate in most areas. Our poverty levels are falling.\n",
    "               Our achievements are being globally recognised today. Yet we lack the self-confidence to\n",
    "               see ourselves as a developed nation, self-reliant and self-assured. Isn’t this incorrect?\n",
    "               I have a third vision. India must stand up to the world. Because I believe that unless India \n",
    "               stands up to the world, no one will respect us. Only strength respects strength. We must be \n",
    "               strong not only as a military power but also as an economic power. Both must go hand-in-hand. \n",
    "               My good fortune was to have worked with three great minds. Dr. Vikram Sarabhai of the Dept. of \n",
    "               space, Professor Satish Dhawan, who succeeded him and Dr. Brahm Prakash, father of nuclear material.\n",
    "               I was lucky to have worked with all three of them closely and consider this the great opportunity of my life. \n",
    "               I see four milestones in my career\"\"\""
   ]
  },
  {
   "cell_type": "markdown",
   "id": "6b674efa",
   "metadata": {},
   "source": [
    "## Data Preprocessing"
   ]
  },
  {
   "cell_type": "code",
   "execution_count": 9,
   "id": "d1d9b442",
   "metadata": {},
   "outputs": [],
   "source": [
    "text = re.sub(r'\\[[0-9]*\\]','',paragraph)\n",
    "text = re.sub(r'\\s+','',text)\n",
    "text = text.lower()\n",
    "text = re.sub(r'\\d','',text)\n",
    "text = re.sub(r'\\s+','',text)\n"
   ]
  },
  {
   "cell_type": "code",
   "execution_count": 14,
   "id": "03ecbdf0",
   "metadata": {},
   "outputs": [],
   "source": [
    "sentences = nltk.sent_tokenize(text)\n",
    "sentences = [nltk.word_tokenize(sentence) for sentence in sentences]"
   ]
  },
  {
   "cell_type": "code",
   "execution_count": 15,
   "id": "73b9f34b",
   "metadata": {},
   "outputs": [],
   "source": [
    "for i in range(len(sentences)):\n",
    "    sentences[i] = [word for word in sentences[i] if word not in stopwords.words('english')]"
   ]
  },
  {
   "cell_type": "markdown",
   "id": "78766551",
   "metadata": {},
   "source": [
    "## Model Training"
   ]
  },
  {
   "cell_type": "code",
   "execution_count": 16,
   "id": "64a91f6f",
   "metadata": {},
   "outputs": [],
   "source": [
    "model = Word2Vec(sentences, min_count=1)"
   ]
  },
  {
   "cell_type": "code",
   "execution_count": 51,
   "id": "20853b36",
   "metadata": {},
   "outputs": [],
   "source": [
    "words = model.wv.key_to_index"
   ]
  },
  {
   "cell_type": "code",
   "execution_count": 52,
   "id": "0edae07e",
   "metadata": {},
   "outputs": [
    {
     "data": {
      "text/plain": [
       "{',': 0,\n",
       " '’': 1,\n",
       " '?': 2,\n",
       " 'fatherofnuclearmaterial.iwasluckytohaveworkedwithallthreeofthemcloselyandconsiderthisthegreatopportunityofmylife.iseefourmilestonesinmycareer': 3,\n",
       " 'allofthemcameandlootedus': 4,\n",
       " 'peoplefromallovertheworldhavecomeandinvadedus': 5,\n",
       " 'capturedourlands': 6,\n",
       " 'conqueredourminds.fromalexanderonwards': 7,\n",
       " 'thegreeks': 8,\n",
       " 'theturks': 9,\n",
       " 'themoguls': 10,\n",
       " 'theportuguese': 11,\n",
       " 'thebritish': 12,\n",
       " 'thefrench': 13,\n",
       " 'thedutch': 14,\n",
       " 'theirculture': 15,\n",
       " 'tookoverwhatwasours.yetwehavenotdonethistoanyothernation.wehavenotconqueredanyone.wehavenotgrabbedtheirland': 16,\n",
       " 'whosucceededhimanddr.brahmprakash': 17,\n",
       " 'theirhistoryandtriedtoenforceourwayoflifeonthem.why': 18,\n",
       " 'becausewerespectthefreedomofothers.thatiswhymyfirstvisionisthatoffreedom.ibelievethatindiagotitsfirstvisionofthisin': 19,\n",
       " 'whenwestartedthewarofindependence.itisthisfreedomthatwemustprotectandnurtureandbuildon.ifwearenotfree': 20,\n",
       " 'noonewillrespectus.mysecondvisionforindia': 21,\n",
       " 'sdevelopment.forfiftyyearswehavebeenadevelopingnation.itistimeweseeourselvesasadevelopednation.weareamongthetopnationsoftheworldintermsofgdp.wehaveapercentgrowthrateinmostareas.ourpovertylevelsarefalling.ourachievementsarebeinggloballyrecognisedtoday.yetwelacktheself-confidencetoseeourselvesasadevelopednation': 22,\n",
       " 'self-reliantandself-assured.isn': 23,\n",
       " 'tthisincorrect': 24,\n",
       " 'ihaveathirdvision.indiamuststanduptotheworld.becauseibelievethatunlessindiastandsuptotheworld': 25,\n",
       " 'noonewillrespectus.onlystrengthrespectsstrength.wemustbestrongnotonlyasamilitarypowerbutalsoasaneconomicpower.bothmustgohand-in-hand.mygoodfortunewastohaveworkedwiththreegreatminds.dr.vikramsarabhaiofthedept.ofspace': 26,\n",
       " 'professorsatishdhawan': 27,\n",
       " 'ihavethreevisionsforindia.inyearsofourhistory': 28}"
      ]
     },
     "execution_count": 52,
     "metadata": {},
     "output_type": "execute_result"
    }
   ],
   "source": [
    "words"
   ]
  },
  {
   "cell_type": "code",
   "execution_count": 53,
   "id": "076379a8",
   "metadata": {},
   "outputs": [
    {
     "data": {
      "text/plain": [
       "array([-4.9763527e-03, -1.2714710e-03,  3.2855296e-03, -6.4056101e-03,\n",
       "       -9.6998475e-03, -9.2566637e-03,  9.0295160e-03,  5.3867493e-03,\n",
       "       -4.7979858e-03, -8.3355010e-03,  1.2880422e-03,  2.8725113e-03,\n",
       "       -1.2430209e-03,  1.2771206e-03, -4.3204534e-03,  4.7847554e-03,\n",
       "        1.5013961e-03,  8.8841785e-03, -9.9833775e-03, -5.2957204e-03,\n",
       "       -9.0910634e-03, -3.5036556e-04, -7.8497250e-03,  5.0205742e-03,\n",
       "       -6.4013037e-03, -5.9475340e-03,  5.0593708e-03, -8.1498334e-03,\n",
       "        1.4473242e-03, -7.2244490e-03,  9.8724710e-03,  8.6219823e-03,\n",
       "        1.7686087e-03,  5.7626474e-03,  4.5883181e-03, -5.9994166e-03,\n",
       "        9.7573446e-03, -9.6709030e-03,  8.0523463e-03,  2.7558997e-03,\n",
       "       -3.0460046e-03, -3.5652216e-03,  9.0634143e-03, -5.4279999e-03,\n",
       "        8.1866300e-03, -6.0239844e-03,  8.3833365e-03, -5.6514173e-04,\n",
       "        7.9538943e-03, -3.1467124e-03,  5.9859981e-03,  8.8022873e-03,\n",
       "        2.5416990e-03,  1.3067677e-03,  5.0324304e-03,  8.0049615e-03,\n",
       "        8.5788257e-03,  8.4893126e-03,  7.0425947e-03,  8.0050630e-03,\n",
       "        8.5941302e-03, -4.1738673e-05, -9.9879701e-04,  1.6697866e-03,\n",
       "       -3.6902093e-06,  7.1088952e-04, -8.5804090e-03, -9.5882742e-03,\n",
       "       -2.3228272e-03,  8.9365086e-03, -3.6440908e-03, -6.9740699e-03,\n",
       "        4.8827059e-03,  1.0636208e-03,  1.8615491e-03,  3.6574977e-03,\n",
       "        3.5422372e-03,  5.7425941e-03,  1.2347243e-03,  8.3674950e-04,\n",
       "        9.0197837e-03,  2.7807138e-03, -4.6946411e-03,  6.5486440e-03,\n",
       "        5.2100047e-03,  2.8654167e-03, -3.1228652e-03,  3.3381607e-03,\n",
       "        6.3576596e-03,  7.0812078e-03,  9.5811021e-04, -8.5357195e-03,\n",
       "        2.6894707e-04,  3.6217770e-04,  3.9502317e-03, -9.4724959e-03,\n",
       "        9.7156875e-03, -6.9652027e-03,  5.7612737e-03, -9.4114169e-03],\n",
       "      dtype=float32)"
      ]
     },
     "execution_count": 53,
     "metadata": {},
     "output_type": "execute_result"
    }
   ],
   "source": [
    "# Finding Word Vectors\n",
    "vector = model.wv['tthisincorrect']\n",
    "vector"
   ]
  },
  {
   "cell_type": "code",
   "execution_count": 54,
   "id": "77b42a62",
   "metadata": {},
   "outputs": [
    {
     "data": {
      "text/plain": [
       "[('themoguls', 0.10184190422296524),\n",
       " ('whosucceededhimanddr.brahmprakash', 0.08759570866823196),\n",
       " ('self-reliantandself-assured.isn', 0.07394848018884659),\n",
       " ('fatherofnuclearmaterial.iwasluckytohaveworkedwithallthreeofthemcloselyandconsiderthisthegreatopportunityofmylife.iseefourmilestonesinmycareer',\n",
       "  0.0481991209089756),\n",
       " ('peoplefromallovertheworldhavecomeandinvadedus', 0.042667634785175323),\n",
       " ('conqueredourminds.fromalexanderonwards', 0.037417370826005936),\n",
       " ('theirhistoryandtriedtoenforceourwayoflifeonthem.why', 0.02668136917054653),\n",
       " ('theirculture', 0.01655290089547634),\n",
       " ('theturks', 0.010917565785348415),\n",
       " ('theportuguese', 0.006667233072221279)]"
      ]
     },
     "execution_count": 54,
     "metadata": {},
     "output_type": "execute_result"
    }
   ],
   "source": [
    "model.wv.most_similar('tthisincorrect')"
   ]
  },
  {
   "cell_type": "code",
   "execution_count": null,
   "id": "4c2c6462",
   "metadata": {},
   "outputs": [],
   "source": []
  }
 ],
 "metadata": {
  "kernelspec": {
   "display_name": "Python 3 (ipykernel)",
   "language": "python",
   "name": "python3"
  },
  "language_info": {
   "codemirror_mode": {
    "name": "ipython",
    "version": 3
   },
   "file_extension": ".py",
   "mimetype": "text/x-python",
   "name": "python",
   "nbconvert_exporter": "python",
   "pygments_lexer": "ipython3",
   "version": "3.11.5"
  }
 },
 "nbformat": 4,
 "nbformat_minor": 5
}
