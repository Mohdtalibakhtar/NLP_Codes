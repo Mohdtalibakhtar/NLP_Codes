{
 "cells": [
  {
   "cell_type": "code",
   "execution_count": 2,
   "id": "09e25988",
   "metadata": {},
   "outputs": [
    {
     "name": "stdout",
     "output_type": "stream",
     "text": [
      "Collecting tensorflow\n",
      "  Obtaining dependency information for tensorflow from https://files.pythonhosted.org/packages/f9/14/67e9b2b2379cb530c0412123a674d045eca387dfcfa7db1c0028857b0a66/tensorflow-2.16.1-cp311-cp311-macosx_12_0_arm64.whl.metadata\n",
      "  Downloading tensorflow-2.16.1-cp311-cp311-macosx_12_0_arm64.whl.metadata (4.1 kB)\n",
      "Collecting absl-py>=1.0.0 (from tensorflow)\n",
      "  Obtaining dependency information for absl-py>=1.0.0 from https://files.pythonhosted.org/packages/a2/ad/e0d3c824784ff121c03cc031f944bc7e139a8f1870ffd2845cc2dd76f6c4/absl_py-2.1.0-py3-none-any.whl.metadata\n",
      "  Downloading absl_py-2.1.0-py3-none-any.whl.metadata (2.3 kB)\n",
      "Collecting astunparse>=1.6.0 (from tensorflow)\n",
      "  Obtaining dependency information for astunparse>=1.6.0 from https://files.pythonhosted.org/packages/2b/03/13dde6512ad7b4557eb792fbcf0c653af6076b81e5941d36ec61f7ce6028/astunparse-1.6.3-py2.py3-none-any.whl.metadata\n",
      "  Downloading astunparse-1.6.3-py2.py3-none-any.whl.metadata (4.4 kB)\n",
      "Collecting flatbuffers>=23.5.26 (from tensorflow)\n",
      "  Obtaining dependency information for flatbuffers>=23.5.26 from https://files.pythonhosted.org/packages/bf/45/c961e3cb6ddad76b325c163d730562bb6deb1ace5acbed0306f5fbefb90e/flatbuffers-24.3.7-py2.py3-none-any.whl.metadata\n",
      "  Downloading flatbuffers-24.3.7-py2.py3-none-any.whl.metadata (849 bytes)\n",
      "Collecting gast!=0.5.0,!=0.5.1,!=0.5.2,>=0.2.1 (from tensorflow)\n",
      "  Obtaining dependency information for gast!=0.5.0,!=0.5.1,!=0.5.2,>=0.2.1 from https://files.pythonhosted.org/packages/fa/39/5aae571e5a5f4de9c3445dae08a530498e5c53b0e74410eeeb0991c79047/gast-0.5.4-py3-none-any.whl.metadata\n",
      "  Downloading gast-0.5.4-py3-none-any.whl.metadata (1.3 kB)\n",
      "Collecting google-pasta>=0.1.1 (from tensorflow)\n",
      "  Obtaining dependency information for google-pasta>=0.1.1 from https://files.pythonhosted.org/packages/a3/de/c648ef6835192e6e2cc03f40b19eeda4382c49b5bafb43d88b931c4c74ac/google_pasta-0.2.0-py3-none-any.whl.metadata\n",
      "  Downloading google_pasta-0.2.0-py3-none-any.whl.metadata (814 bytes)\n",
      "Collecting h5py>=3.10.0 (from tensorflow)\n",
      "  Obtaining dependency information for h5py>=3.10.0 from https://files.pythonhosted.org/packages/8d/70/2b0b99507287f66e71a6b2e66c5ad2ec2461ef2c534668eef96c3b48eb6d/h5py-3.10.0-cp311-cp311-macosx_11_0_arm64.whl.metadata\n",
      "  Downloading h5py-3.10.0-cp311-cp311-macosx_11_0_arm64.whl.metadata (2.5 kB)\n",
      "Collecting libclang>=13.0.0 (from tensorflow)\n",
      "  Obtaining dependency information for libclang>=13.0.0 from https://files.pythonhosted.org/packages/32/1f/981809b77b71972beec34b3ff5422c1b1f7e519daac7b3cbd055c05ba2cf/libclang-16.0.6-py2.py3-none-macosx_11_0_arm64.whl.metadata\n",
      "  Downloading libclang-16.0.6-py2.py3-none-macosx_11_0_arm64.whl.metadata (5.2 kB)\n",
      "Collecting ml-dtypes~=0.3.1 (from tensorflow)\n",
      "  Obtaining dependency information for ml-dtypes~=0.3.1 from https://files.pythonhosted.org/packages/6e/a4/6aabb78f1569550fd77c74d2c1d008b502c8ce72776bd88b14ea6c182c9e/ml_dtypes-0.3.2-cp311-cp311-macosx_10_9_universal2.whl.metadata\n",
      "  Downloading ml_dtypes-0.3.2-cp311-cp311-macosx_10_9_universal2.whl.metadata (20 kB)\n",
      "Collecting opt-einsum>=2.3.2 (from tensorflow)\n",
      "  Obtaining dependency information for opt-einsum>=2.3.2 from https://files.pythonhosted.org/packages/bc/19/404708a7e54ad2798907210462fd950c3442ea51acc8790f3da48d2bee8b/opt_einsum-3.3.0-py3-none-any.whl.metadata\n",
      "  Downloading opt_einsum-3.3.0-py3-none-any.whl.metadata (6.5 kB)\n",
      "Requirement already satisfied: packaging in /Users/mohdtalibakhtar/anaconda3/lib/python3.11/site-packages (from tensorflow) (23.1)\n",
      "Collecting protobuf!=4.21.0,!=4.21.1,!=4.21.2,!=4.21.3,!=4.21.4,!=4.21.5,<5.0.0dev,>=3.20.3 (from tensorflow)\n",
      "  Obtaining dependency information for protobuf!=4.21.0,!=4.21.1,!=4.21.2,!=4.21.3,!=4.21.4,!=4.21.5,<5.0.0dev,>=3.20.3 from https://files.pythonhosted.org/packages/f3/bf/26deba06a4c910a85f78245cac7698f67cedd7efe00d04f6b3e1b3506a59/protobuf-4.25.3-cp37-abi3-macosx_10_9_universal2.whl.metadata\n",
      "  Downloading protobuf-4.25.3-cp37-abi3-macosx_10_9_universal2.whl.metadata (541 bytes)\n",
      "Requirement already satisfied: requests<3,>=2.21.0 in /Users/mohdtalibakhtar/anaconda3/lib/python3.11/site-packages (from tensorflow) (2.31.0)\n",
      "Requirement already satisfied: setuptools in /Users/mohdtalibakhtar/anaconda3/lib/python3.11/site-packages (from tensorflow) (68.0.0)\n",
      "Requirement already satisfied: six>=1.12.0 in /Users/mohdtalibakhtar/anaconda3/lib/python3.11/site-packages (from tensorflow) (1.16.0)\n",
      "Collecting termcolor>=1.1.0 (from tensorflow)\n",
      "  Obtaining dependency information for termcolor>=1.1.0 from https://files.pythonhosted.org/packages/d9/5f/8c716e47b3a50cbd7c146f45881e11d9414def768b7cd9c5e6650ec2a80a/termcolor-2.4.0-py3-none-any.whl.metadata\n",
      "  Downloading termcolor-2.4.0-py3-none-any.whl.metadata (6.1 kB)\n",
      "Requirement already satisfied: typing-extensions>=3.6.6 in /Users/mohdtalibakhtar/anaconda3/lib/python3.11/site-packages (from tensorflow) (4.7.1)\n",
      "Requirement already satisfied: wrapt>=1.11.0 in /Users/mohdtalibakhtar/anaconda3/lib/python3.11/site-packages (from tensorflow) (1.14.1)\n",
      "Collecting grpcio<2.0,>=1.24.3 (from tensorflow)\n",
      "  Obtaining dependency information for grpcio<2.0,>=1.24.3 from https://files.pythonhosted.org/packages/c1/0a/a8c0f403b2189f5d3e490778ead51924b56fa30a35f6e444b3702e28c8c8/grpcio-1.62.1-cp311-cp311-macosx_10_10_universal2.whl.metadata\n",
      "  Downloading grpcio-1.62.1-cp311-cp311-macosx_10_10_universal2.whl.metadata (4.0 kB)\n",
      "Collecting tensorboard<2.17,>=2.16 (from tensorflow)\n",
      "  Obtaining dependency information for tensorboard<2.17,>=2.16 from https://files.pythonhosted.org/packages/3a/d0/b97889ffa769e2d1fdebb632084d5e8b53fc299d43a537acee7ec0c021a3/tensorboard-2.16.2-py3-none-any.whl.metadata\n",
      "  Downloading tensorboard-2.16.2-py3-none-any.whl.metadata (1.6 kB)\n",
      "Collecting keras>=3.0.0 (from tensorflow)\n",
      "  Obtaining dependency information for keras>=3.0.0 from https://files.pythonhosted.org/packages/b0/b2/104733bb67fde86f3d10010f0b5c93cfa1d5bf552f904584cf9e5b3ba719/keras-3.0.5-py3-none-any.whl.metadata\n",
      "  Downloading keras-3.0.5-py3-none-any.whl.metadata (4.8 kB)\n",
      "Collecting tensorflow-io-gcs-filesystem>=0.23.1 (from tensorflow)\n",
      "  Obtaining dependency information for tensorflow-io-gcs-filesystem>=0.23.1 from https://files.pythonhosted.org/packages/3e/56/1b7ef816e448464a93da70296db237129910b4452d6b4582d5e23fb07880/tensorflow_io_gcs_filesystem-0.36.0-cp311-cp311-macosx_12_0_arm64.whl.metadata\n",
      "  Downloading tensorflow_io_gcs_filesystem-0.36.0-cp311-cp311-macosx_12_0_arm64.whl.metadata (14 kB)\n",
      "Requirement already satisfied: numpy<2.0.0,>=1.23.5 in /Users/mohdtalibakhtar/anaconda3/lib/python3.11/site-packages (from tensorflow) (1.24.3)\n",
      "Requirement already satisfied: wheel<1.0,>=0.23.0 in /Users/mohdtalibakhtar/anaconda3/lib/python3.11/site-packages (from astunparse>=1.6.0->tensorflow) (0.38.4)\n",
      "Collecting rich (from keras>=3.0.0->tensorflow)\n",
      "  Obtaining dependency information for rich from https://files.pythonhosted.org/packages/87/67/a37f6214d0e9fe57f6ae54b2956d550ca8365857f42a1ce0392bb21d9410/rich-13.7.1-py3-none-any.whl.metadata\n",
      "  Downloading rich-13.7.1-py3-none-any.whl.metadata (18 kB)\n",
      "Collecting namex (from keras>=3.0.0->tensorflow)\n",
      "  Obtaining dependency information for namex from https://files.pythonhosted.org/packages/cd/43/b971880e2eb45c0bee2093710ae8044764a89afe9620df34a231c6f0ecd2/namex-0.0.7-py3-none-any.whl.metadata\n",
      "  Downloading namex-0.0.7-py3-none-any.whl.metadata (246 bytes)\n",
      "Collecting dm-tree (from keras>=3.0.0->tensorflow)\n",
      "  Obtaining dependency information for dm-tree from https://files.pythonhosted.org/packages/08/e2/4c29cb9876456517f21979ddcbb6048f28a3b52c61aa9d14d42adafcdca4/dm_tree-0.1.8-cp311-cp311-macosx_11_0_arm64.whl.metadata\n",
      "  Downloading dm_tree-0.1.8-cp311-cp311-macosx_11_0_arm64.whl.metadata (1.9 kB)\n",
      "Requirement already satisfied: charset-normalizer<4,>=2 in /Users/mohdtalibakhtar/anaconda3/lib/python3.11/site-packages (from requests<3,>=2.21.0->tensorflow) (2.0.4)\n",
      "Requirement already satisfied: idna<4,>=2.5 in /Users/mohdtalibakhtar/anaconda3/lib/python3.11/site-packages (from requests<3,>=2.21.0->tensorflow) (3.4)\n",
      "Requirement already satisfied: urllib3<3,>=1.21.1 in /Users/mohdtalibakhtar/anaconda3/lib/python3.11/site-packages (from requests<3,>=2.21.0->tensorflow) (1.26.16)\n",
      "Requirement already satisfied: certifi>=2017.4.17 in /Users/mohdtalibakhtar/anaconda3/lib/python3.11/site-packages (from requests<3,>=2.21.0->tensorflow) (2023.7.22)\n",
      "Requirement already satisfied: markdown>=2.6.8 in /Users/mohdtalibakhtar/anaconda3/lib/python3.11/site-packages (from tensorboard<2.17,>=2.16->tensorflow) (3.4.1)\n",
      "Collecting tensorboard-data-server<0.8.0,>=0.7.0 (from tensorboard<2.17,>=2.16->tensorflow)\n",
      "  Obtaining dependency information for tensorboard-data-server<0.8.0,>=0.7.0 from https://files.pythonhosted.org/packages/7a/13/e503968fefabd4c6b2650af21e110aa8466fe21432cd7c43a84577a89438/tensorboard_data_server-0.7.2-py3-none-any.whl.metadata\n",
      "  Downloading tensorboard_data_server-0.7.2-py3-none-any.whl.metadata (1.1 kB)\n"
     ]
    },
    {
     "name": "stdout",
     "output_type": "stream",
     "text": [
      "Requirement already satisfied: werkzeug>=1.0.1 in /Users/mohdtalibakhtar/anaconda3/lib/python3.11/site-packages (from tensorboard<2.17,>=2.16->tensorflow) (2.2.3)\n",
      "Requirement already satisfied: MarkupSafe>=2.1.1 in /Users/mohdtalibakhtar/anaconda3/lib/python3.11/site-packages (from werkzeug>=1.0.1->tensorboard<2.17,>=2.16->tensorflow) (2.1.1)\n",
      "Requirement already satisfied: markdown-it-py>=2.2.0 in /Users/mohdtalibakhtar/anaconda3/lib/python3.11/site-packages (from rich->keras>=3.0.0->tensorflow) (2.2.0)\n",
      "Requirement already satisfied: pygments<3.0.0,>=2.13.0 in /Users/mohdtalibakhtar/anaconda3/lib/python3.11/site-packages (from rich->keras>=3.0.0->tensorflow) (2.15.1)\n",
      "Requirement already satisfied: mdurl~=0.1 in /Users/mohdtalibakhtar/anaconda3/lib/python3.11/site-packages (from markdown-it-py>=2.2.0->rich->keras>=3.0.0->tensorflow) (0.1.0)\n",
      "Downloading tensorflow-2.16.1-cp311-cp311-macosx_12_0_arm64.whl (227.0 MB)\n",
      "\u001b[2K   \u001b[90m━━━━━━━━━━━━━━━━━━━━━━━━━━━━━━━━━━━━━━━━\u001b[0m \u001b[32m227.0/227.0 MB\u001b[0m \u001b[31m8.6 MB/s\u001b[0m eta \u001b[36m0:00:00\u001b[0m:00:01\u001b[0m00:01\u001b[0m\n",
      "\u001b[?25hDownloading absl_py-2.1.0-py3-none-any.whl (133 kB)\n",
      "\u001b[2K   \u001b[90m━━━━━━━━━━━━━━━━━━━━━━━━━━━━━━━━━━━━━━━━\u001b[0m \u001b[32m133.7/133.7 kB\u001b[0m \u001b[31m1.2 MB/s\u001b[0m eta \u001b[36m0:00:00\u001b[0m:00:01\u001b[0m\n",
      "\u001b[?25hDownloading astunparse-1.6.3-py2.py3-none-any.whl (12 kB)\n",
      "Downloading flatbuffers-24.3.7-py2.py3-none-any.whl (26 kB)\n",
      "Downloading gast-0.5.4-py3-none-any.whl (19 kB)\n",
      "Downloading google_pasta-0.2.0-py3-none-any.whl (57 kB)\n",
      "\u001b[2K   \u001b[90m━━━━━━━━━━━━━━━━━━━━━━━━━━━━━━━━━━━━━━━━\u001b[0m \u001b[32m57.5/57.5 kB\u001b[0m \u001b[31m7.3 MB/s\u001b[0m eta \u001b[36m0:00:00\u001b[0m\n",
      "\u001b[?25hDownloading grpcio-1.62.1-cp311-cp311-macosx_10_10_universal2.whl (10.0 MB)\n",
      "\u001b[2K   \u001b[90m━━━━━━━━━━━━━━━━━━━━━━━━━━━━━━━━━━━━━━━━\u001b[0m \u001b[32m10.0/10.0 MB\u001b[0m \u001b[31m26.2 MB/s\u001b[0m eta \u001b[36m0:00:00\u001b[0m \u001b[36m0:00:01\u001b[0m\n",
      "\u001b[?25hDownloading h5py-3.10.0-cp311-cp311-macosx_11_0_arm64.whl (2.6 MB)\n",
      "\u001b[2K   \u001b[90m━━━━━━━━━━━━━━━━━━━━━━━━━━━━━━━━━━━━━━━━\u001b[0m \u001b[32m2.6/2.6 MB\u001b[0m \u001b[31m25.4 MB/s\u001b[0m eta \u001b[36m0:00:00\u001b[0ma \u001b[36m0:00:01\u001b[0m\n",
      "\u001b[?25hDownloading keras-3.0.5-py3-none-any.whl (1.0 MB)\n",
      "\u001b[2K   \u001b[90m━━━━━━━━━━━━━━━━━━━━━━━━━━━━━━━━━━━━━━━━\u001b[0m \u001b[32m1.0/1.0 MB\u001b[0m \u001b[31m21.8 MB/s\u001b[0m eta \u001b[36m0:00:00\u001b[0m00:01\u001b[0m\n",
      "\u001b[?25hDownloading libclang-16.0.6-py2.py3-none-macosx_11_0_arm64.whl (20.6 MB)\n",
      "\u001b[2K   \u001b[90m━━━━━━━━━━━━━━━━━━━━━━━━━━━━━━━━━━━━━━━━\u001b[0m \u001b[32m20.6/20.6 MB\u001b[0m \u001b[31m23.8 MB/s\u001b[0m eta \u001b[36m0:00:00\u001b[0m00:01\u001b[0m00:01\u001b[0m\n",
      "\u001b[?25hDownloading ml_dtypes-0.3.2-cp311-cp311-macosx_10_9_universal2.whl (389 kB)\n",
      "\u001b[2K   \u001b[90m━━━━━━━━━━━━━━━━━━━━━━━━━━━━━━━━━━━━━━━━\u001b[0m \u001b[32m389.8/389.8 kB\u001b[0m \u001b[31m20.3 MB/s\u001b[0m eta \u001b[36m0:00:00\u001b[0m\n",
      "\u001b[?25hDownloading opt_einsum-3.3.0-py3-none-any.whl (65 kB)\n",
      "\u001b[2K   \u001b[90m━━━━━━━━━━━━━━━━━━━━━━━━━━━━━━━━━━━━━━━━\u001b[0m \u001b[32m65.5/65.5 kB\u001b[0m \u001b[31m9.0 MB/s\u001b[0m eta \u001b[36m0:00:00\u001b[0m\n",
      "\u001b[?25hDownloading protobuf-4.25.3-cp37-abi3-macosx_10_9_universal2.whl (394 kB)\n",
      "\u001b[2K   \u001b[90m━━━━━━━━━━━━━━━━━━━━━━━━━━━━━━━━━━━━━━━━\u001b[0m \u001b[32m394.2/394.2 kB\u001b[0m \u001b[31m20.9 MB/s\u001b[0m eta \u001b[36m0:00:00\u001b[0m\n",
      "\u001b[?25hDownloading tensorboard-2.16.2-py3-none-any.whl (5.5 MB)\n",
      "\u001b[2K   \u001b[90m━━━━━━━━━━━━━━━━━━━━━━━━━━━━━━━━━━━━━━━━\u001b[0m \u001b[32m5.5/5.5 MB\u001b[0m \u001b[31m24.6 MB/s\u001b[0m eta \u001b[36m0:00:00\u001b[0ma \u001b[36m0:00:01\u001b[0m\n",
      "\u001b[?25hDownloading tensorflow_io_gcs_filesystem-0.36.0-cp311-cp311-macosx_12_0_arm64.whl (3.4 MB)\n",
      "\u001b[2K   \u001b[90m━━━━━━━━━━━━━━━━━━━━━━━━━━━━━━━━━━━━━━━━\u001b[0m \u001b[32m3.4/3.4 MB\u001b[0m \u001b[31m24.3 MB/s\u001b[0m eta \u001b[36m0:00:00\u001b[0ma \u001b[36m0:00:01\u001b[0m\n",
      "\u001b[?25hDownloading termcolor-2.4.0-py3-none-any.whl (7.7 kB)\n",
      "Downloading tensorboard_data_server-0.7.2-py3-none-any.whl (2.4 kB)\n",
      "Downloading dm_tree-0.1.8-cp311-cp311-macosx_11_0_arm64.whl (110 kB)\n",
      "\u001b[2K   \u001b[90m━━━━━━━━━━━━━━━━━━━━━━━━━━━━━━━━━━━━━━━━\u001b[0m \u001b[32m110.7/110.7 kB\u001b[0m \u001b[31m12.0 MB/s\u001b[0m eta \u001b[36m0:00:00\u001b[0m\n",
      "\u001b[?25hDownloading namex-0.0.7-py3-none-any.whl (5.8 kB)\n",
      "Downloading rich-13.7.1-py3-none-any.whl (240 kB)\n",
      "\u001b[2K   \u001b[90m━━━━━━━━━━━━━━━━━━━━━━━━━━━━━━━━━━━━━━━━\u001b[0m \u001b[32m240.7/240.7 kB\u001b[0m \u001b[31m25.6 MB/s\u001b[0m eta \u001b[36m0:00:00\u001b[0m\n",
      "\u001b[?25hInstalling collected packages: namex, libclang, flatbuffers, dm-tree, termcolor, tensorflow-io-gcs-filesystem, tensorboard-data-server, protobuf, opt-einsum, ml-dtypes, h5py, grpcio, google-pasta, gast, astunparse, absl-py, tensorboard, rich, keras, tensorflow\n",
      "  Attempting uninstall: h5py\n",
      "    Found existing installation: h5py 3.9.0\n",
      "    Uninstalling h5py-3.9.0:\n",
      "      Successfully uninstalled h5py-3.9.0\n",
      "Successfully installed absl-py-2.1.0 astunparse-1.6.3 dm-tree-0.1.8 flatbuffers-24.3.7 gast-0.5.4 google-pasta-0.2.0 grpcio-1.62.1 h5py-3.10.0 keras-3.0.5 libclang-16.0.6 ml-dtypes-0.3.2 namex-0.0.7 opt-einsum-3.3.0 protobuf-4.25.3 rich-13.7.1 tensorboard-2.16.2 tensorboard-data-server-0.7.2 tensorflow-2.16.1 tensorflow-io-gcs-filesystem-0.36.0 termcolor-2.4.0\n"
     ]
    }
   ],
   "source": [
    "!pip install tensorflow"
   ]
  },
  {
   "cell_type": "code",
   "execution_count": 3,
   "id": "321f8abe",
   "metadata": {},
   "outputs": [],
   "source": [
    "from tensorflow.keras.preprocessing.text import one_hot"
   ]
  },
  {
   "cell_type": "markdown",
   "id": "40ac021a",
   "metadata": {},
   "source": [
    "### Sentences"
   ]
  },
  {
   "cell_type": "code",
   "execution_count": 4,
   "id": "7bcf5275",
   "metadata": {},
   "outputs": [],
   "source": [
    "sent=[  'the glass of milk',\n",
    "     'the glass of juice',\n",
    "     'the cup of tea',\n",
    "    'I am a good boy',\n",
    "     'I am a good developer',\n",
    "     'understand the meaning of words',\n",
    "     'your videos are good',]"
   ]
  },
  {
   "cell_type": "code",
   "execution_count": 5,
   "id": "a6b080bd",
   "metadata": {},
   "outputs": [
    {
     "data": {
      "text/plain": [
       "['the glass of milk',\n",
       " 'the glass of juice',\n",
       " 'the cup of tea',\n",
       " 'I am a good boy',\n",
       " 'I am a good developer',\n",
       " 'understand the meaning of words',\n",
       " 'your videos are good']"
      ]
     },
     "execution_count": 5,
     "metadata": {},
     "output_type": "execute_result"
    }
   ],
   "source": [
    "sent"
   ]
  },
  {
   "cell_type": "markdown",
   "id": "2388c478",
   "metadata": {},
   "source": [
    "### Vector size"
   ]
  },
  {
   "cell_type": "code",
   "execution_count": 6,
   "id": "145a7c87",
   "metadata": {},
   "outputs": [],
   "source": [
    "voc_size=10000"
   ]
  },
  {
   "cell_type": "code",
   "execution_count": 7,
   "id": "3ccb2d79",
   "metadata": {},
   "outputs": [
    {
     "name": "stdout",
     "output_type": "stream",
     "text": [
      "[[8354, 7660, 1035, 4559], [8354, 7660, 1035, 4819], [8354, 1794, 1035, 9159], [1009, 3463, 9722, 6405, 4499], [1009, 3463, 9722, 6405, 5813], [7856, 8354, 6127, 1035, 3991], [7419, 7918, 3510, 6405]]\n"
     ]
    }
   ],
   "source": [
    "onehot_repr=[one_hot(words,voc_size)for words in sent] \n",
    "print(onehot_repr)"
   ]
  },
  {
   "cell_type": "code",
   "execution_count": 9,
   "id": "8b4a2aa5",
   "metadata": {},
   "outputs": [],
   "source": [
    "from tensorflow.keras.layers import Embedding\n",
    "from tensorflow.keras.preprocessing.sequence import pad_sequences\n",
    "from tensorflow.keras.models import Sequential\n",
    "import numpy as np"
   ]
  },
  {
   "cell_type": "code",
   "execution_count": 10,
   "id": "cf8bc638",
   "metadata": {},
   "outputs": [
    {
     "name": "stdout",
     "output_type": "stream",
     "text": [
      "[[   0    0    0    0 8354 7660 1035 4559]\n",
      " [   0    0    0    0 8354 7660 1035 4819]\n",
      " [   0    0    0    0 8354 1794 1035 9159]\n",
      " [   0    0    0 1009 3463 9722 6405 4499]\n",
      " [   0    0    0 1009 3463 9722 6405 5813]\n",
      " [   0    0    0 7856 8354 6127 1035 3991]\n",
      " [   0    0    0    0 7419 7918 3510 6405]]\n"
     ]
    }
   ],
   "source": [
    "sent_length=8\n",
    "embedded_docs=pad_sequences(onehot_repr,padding='pre',maxlen=sent_length)\n",
    "print(embedded_docs)"
   ]
  },
  {
   "cell_type": "markdown",
   "id": "9c1adbd1",
   "metadata": {},
   "source": [
    "### Embedding Layer"
   ]
  },
  {
   "cell_type": "code",
   "execution_count": 17,
   "id": "e1ca397c",
   "metadata": {},
   "outputs": [],
   "source": [
    "dim=10\n",
    "model=Sequential()\n",
    "model.add(Embedding(voc_size,10,input_shape=(sent_length,)))\n",
    "model.compile('adam','mse')"
   ]
  },
  {
   "cell_type": "code",
   "execution_count": 18,
   "id": "bfa478ce",
   "metadata": {},
   "outputs": [
    {
     "data": {
      "text/html": [
       "<pre style=\"white-space:pre;overflow-x:auto;line-height:normal;font-family:Menlo,'DejaVu Sans Mono',consolas,'Courier New',monospace\"><span style=\"font-weight: bold\">Model: \"sequential_4\"</span>\n",
       "</pre>\n"
      ],
      "text/plain": [
       "\u001b[1mModel: \"sequential_4\"\u001b[0m\n"
      ]
     },
     "metadata": {},
     "output_type": "display_data"
    },
    {
     "data": {
      "text/html": [
       "<pre style=\"white-space:pre;overflow-x:auto;line-height:normal;font-family:Menlo,'DejaVu Sans Mono',consolas,'Courier New',monospace\">┏━━━━━━━━━━━━━━━━━━━━━━━━━━━━━━━━━┳━━━━━━━━━━━━━━━━━━━━━━━━┳━━━━━━━━━━━━━━━┓\n",
       "┃<span style=\"font-weight: bold\"> Layer (type)                    </span>┃<span style=\"font-weight: bold\"> Output Shape           </span>┃<span style=\"font-weight: bold\">       Param # </span>┃\n",
       "┡━━━━━━━━━━━━━━━━━━━━━━━━━━━━━━━━━╇━━━━━━━━━━━━━━━━━━━━━━━━╇━━━━━━━━━━━━━━━┩\n",
       "│ embedding_4 (<span style=\"color: #0087ff; text-decoration-color: #0087ff\">Embedding</span>)         │ (<span style=\"color: #00d7ff; text-decoration-color: #00d7ff\">None</span>, <span style=\"color: #00af00; text-decoration-color: #00af00\">8</span>, <span style=\"color: #00af00; text-decoration-color: #00af00\">10</span>)          │       <span style=\"color: #00af00; text-decoration-color: #00af00\">100,000</span> │\n",
       "└─────────────────────────────────┴────────────────────────┴───────────────┘\n",
       "</pre>\n"
      ],
      "text/plain": [
       "┏━━━━━━━━━━━━━━━━━━━━━━━━━━━━━━━━━┳━━━━━━━━━━━━━━━━━━━━━━━━┳━━━━━━━━━━━━━━━┓\n",
       "┃\u001b[1m \u001b[0m\u001b[1mLayer (type)                   \u001b[0m\u001b[1m \u001b[0m┃\u001b[1m \u001b[0m\u001b[1mOutput Shape          \u001b[0m\u001b[1m \u001b[0m┃\u001b[1m \u001b[0m\u001b[1m      Param #\u001b[0m\u001b[1m \u001b[0m┃\n",
       "┡━━━━━━━━━━━━━━━━━━━━━━━━━━━━━━━━━╇━━━━━━━━━━━━━━━━━━━━━━━━╇━━━━━━━━━━━━━━━┩\n",
       "│ embedding_4 (\u001b[38;5;33mEmbedding\u001b[0m)         │ (\u001b[38;5;45mNone\u001b[0m, \u001b[38;5;34m8\u001b[0m, \u001b[38;5;34m10\u001b[0m)          │       \u001b[38;5;34m100,000\u001b[0m │\n",
       "└─────────────────────────────────┴────────────────────────┴───────────────┘\n"
      ]
     },
     "metadata": {},
     "output_type": "display_data"
    },
    {
     "data": {
      "text/html": [
       "<pre style=\"white-space:pre;overflow-x:auto;line-height:normal;font-family:Menlo,'DejaVu Sans Mono',consolas,'Courier New',monospace\"><span style=\"font-weight: bold\"> Total params: </span><span style=\"color: #00af00; text-decoration-color: #00af00\">100,000</span> (390.62 KB)\n",
       "</pre>\n"
      ],
      "text/plain": [
       "\u001b[1m Total params: \u001b[0m\u001b[38;5;34m100,000\u001b[0m (390.62 KB)\n"
      ]
     },
     "metadata": {},
     "output_type": "display_data"
    },
    {
     "data": {
      "text/html": [
       "<pre style=\"white-space:pre;overflow-x:auto;line-height:normal;font-family:Menlo,'DejaVu Sans Mono',consolas,'Courier New',monospace\"><span style=\"font-weight: bold\"> Trainable params: </span><span style=\"color: #00af00; text-decoration-color: #00af00\">100,000</span> (390.62 KB)\n",
       "</pre>\n"
      ],
      "text/plain": [
       "\u001b[1m Trainable params: \u001b[0m\u001b[38;5;34m100,000\u001b[0m (390.62 KB)\n"
      ]
     },
     "metadata": {},
     "output_type": "display_data"
    },
    {
     "data": {
      "text/html": [
       "<pre style=\"white-space:pre;overflow-x:auto;line-height:normal;font-family:Menlo,'DejaVu Sans Mono',consolas,'Courier New',monospace\"><span style=\"font-weight: bold\"> Non-trainable params: </span><span style=\"color: #00af00; text-decoration-color: #00af00\">0</span> (0.00 B)\n",
       "</pre>\n"
      ],
      "text/plain": [
       "\u001b[1m Non-trainable params: \u001b[0m\u001b[38;5;34m0\u001b[0m (0.00 B)\n"
      ]
     },
     "metadata": {},
     "output_type": "display_data"
    }
   ],
   "source": [
    "model.summary()"
   ]
  },
  {
   "cell_type": "code",
   "execution_count": 19,
   "id": "dc25f3c6",
   "metadata": {},
   "outputs": [
    {
     "name": "stdout",
     "output_type": "stream",
     "text": [
      "\u001b[1m1/1\u001b[0m \u001b[32m━━━━━━━━━━━━━━━━━━━━\u001b[0m\u001b[37m\u001b[0m \u001b[1m1s\u001b[0m 514ms/step\n",
      "[[[-3.46348509e-02  1.04036182e-03  9.86766815e-03 -2.18022615e-04\n",
      "    4.09936942e-02 -6.91156462e-03 -3.80716547e-02 -1.01014487e-02\n",
      "    3.09529044e-02 -2.40746029e-02]\n",
      "  [-3.46348509e-02  1.04036182e-03  9.86766815e-03 -2.18022615e-04\n",
      "    4.09936942e-02 -6.91156462e-03 -3.80716547e-02 -1.01014487e-02\n",
      "    3.09529044e-02 -2.40746029e-02]\n",
      "  [-3.46348509e-02  1.04036182e-03  9.86766815e-03 -2.18022615e-04\n",
      "    4.09936942e-02 -6.91156462e-03 -3.80716547e-02 -1.01014487e-02\n",
      "    3.09529044e-02 -2.40746029e-02]\n",
      "  [-3.46348509e-02  1.04036182e-03  9.86766815e-03 -2.18022615e-04\n",
      "    4.09936942e-02 -6.91156462e-03 -3.80716547e-02 -1.01014487e-02\n",
      "    3.09529044e-02 -2.40746029e-02]\n",
      "  [ 4.53752913e-02  6.35540485e-03 -6.10323995e-03  3.27641107e-02\n",
      "   -4.55806032e-02  1.40882991e-02 -6.68748468e-03 -4.60236669e-02\n",
      "   -2.60941740e-02  1.25113390e-02]\n",
      "  [ 3.97754833e-03  4.25113477e-02 -2.44438890e-02 -6.95694610e-03\n",
      "   -3.96263376e-02 -1.12188831e-02 -3.74926217e-02 -4.70207706e-02\n",
      "   -2.75988467e-02  4.96977679e-02]\n",
      "  [-1.13222487e-02 -1.67644247e-02  4.19405438e-02 -1.06224641e-02\n",
      "    3.02480198e-02  2.09367387e-02  4.84101512e-02 -9.20470804e-03\n",
      "   -1.56363137e-02  4.63095792e-02]\n",
      "  [ 2.66109817e-02  1.81139745e-02 -2.34362725e-02 -1.22950450e-02\n",
      "    4.98638637e-02 -4.31524888e-02  2.46111415e-02 -4.47962433e-03\n",
      "   -4.40550111e-02  4.11333181e-02]]\n",
      "\n",
      " [[-3.46348509e-02  1.04036182e-03  9.86766815e-03 -2.18022615e-04\n",
      "    4.09936942e-02 -6.91156462e-03 -3.80716547e-02 -1.01014487e-02\n",
      "    3.09529044e-02 -2.40746029e-02]\n",
      "  [-3.46348509e-02  1.04036182e-03  9.86766815e-03 -2.18022615e-04\n",
      "    4.09936942e-02 -6.91156462e-03 -3.80716547e-02 -1.01014487e-02\n",
      "    3.09529044e-02 -2.40746029e-02]\n",
      "  [-3.46348509e-02  1.04036182e-03  9.86766815e-03 -2.18022615e-04\n",
      "    4.09936942e-02 -6.91156462e-03 -3.80716547e-02 -1.01014487e-02\n",
      "    3.09529044e-02 -2.40746029e-02]\n",
      "  [-3.46348509e-02  1.04036182e-03  9.86766815e-03 -2.18022615e-04\n",
      "    4.09936942e-02 -6.91156462e-03 -3.80716547e-02 -1.01014487e-02\n",
      "    3.09529044e-02 -2.40746029e-02]\n",
      "  [ 4.53752913e-02  6.35540485e-03 -6.10323995e-03  3.27641107e-02\n",
      "   -4.55806032e-02  1.40882991e-02 -6.68748468e-03 -4.60236669e-02\n",
      "   -2.60941740e-02  1.25113390e-02]\n",
      "  [ 3.97754833e-03  4.25113477e-02 -2.44438890e-02 -6.95694610e-03\n",
      "   -3.96263376e-02 -1.12188831e-02 -3.74926217e-02 -4.70207706e-02\n",
      "   -2.75988467e-02  4.96977679e-02]\n",
      "  [-1.13222487e-02 -1.67644247e-02  4.19405438e-02 -1.06224641e-02\n",
      "    3.02480198e-02  2.09367387e-02  4.84101512e-02 -9.20470804e-03\n",
      "   -1.56363137e-02  4.63095792e-02]\n",
      "  [-1.53096542e-02 -3.04480679e-02 -1.28696337e-02  2.80229002e-03\n",
      "   -7.99280405e-03 -1.35764107e-02 -4.38939445e-02 -2.80050524e-02\n",
      "   -1.15517601e-02  5.71995974e-03]]\n",
      "\n",
      " [[-3.46348509e-02  1.04036182e-03  9.86766815e-03 -2.18022615e-04\n",
      "    4.09936942e-02 -6.91156462e-03 -3.80716547e-02 -1.01014487e-02\n",
      "    3.09529044e-02 -2.40746029e-02]\n",
      "  [-3.46348509e-02  1.04036182e-03  9.86766815e-03 -2.18022615e-04\n",
      "    4.09936942e-02 -6.91156462e-03 -3.80716547e-02 -1.01014487e-02\n",
      "    3.09529044e-02 -2.40746029e-02]\n",
      "  [-3.46348509e-02  1.04036182e-03  9.86766815e-03 -2.18022615e-04\n",
      "    4.09936942e-02 -6.91156462e-03 -3.80716547e-02 -1.01014487e-02\n",
      "    3.09529044e-02 -2.40746029e-02]\n",
      "  [-3.46348509e-02  1.04036182e-03  9.86766815e-03 -2.18022615e-04\n",
      "    4.09936942e-02 -6.91156462e-03 -3.80716547e-02 -1.01014487e-02\n",
      "    3.09529044e-02 -2.40746029e-02]\n",
      "  [ 4.53752913e-02  6.35540485e-03 -6.10323995e-03  3.27641107e-02\n",
      "   -4.55806032e-02  1.40882991e-02 -6.68748468e-03 -4.60236669e-02\n",
      "   -2.60941740e-02  1.25113390e-02]\n",
      "  [-7.75896013e-04 -2.40415577e-02 -3.61112952e-02  2.77750567e-03\n",
      "    1.30562074e-02 -4.64602485e-02 -4.94129062e-02 -4.99803796e-02\n",
      "   -4.01553512e-02  7.02421740e-03]\n",
      "  [-1.13222487e-02 -1.67644247e-02  4.19405438e-02 -1.06224641e-02\n",
      "    3.02480198e-02  2.09367387e-02  4.84101512e-02 -9.20470804e-03\n",
      "   -1.56363137e-02  4.63095792e-02]\n",
      "  [-2.94578802e-02 -2.50346549e-02  1.88552402e-02 -2.82358769e-02\n",
      "   -1.76749006e-02 -2.80706044e-02 -3.61083969e-02  2.91439407e-02\n",
      "    1.14009008e-02  2.97580399e-02]]\n",
      "\n",
      " [[-3.46348509e-02  1.04036182e-03  9.86766815e-03 -2.18022615e-04\n",
      "    4.09936942e-02 -6.91156462e-03 -3.80716547e-02 -1.01014487e-02\n",
      "    3.09529044e-02 -2.40746029e-02]\n",
      "  [-3.46348509e-02  1.04036182e-03  9.86766815e-03 -2.18022615e-04\n",
      "    4.09936942e-02 -6.91156462e-03 -3.80716547e-02 -1.01014487e-02\n",
      "    3.09529044e-02 -2.40746029e-02]\n",
      "  [-3.46348509e-02  1.04036182e-03  9.86766815e-03 -2.18022615e-04\n",
      "    4.09936942e-02 -6.91156462e-03 -3.80716547e-02 -1.01014487e-02\n",
      "    3.09529044e-02 -2.40746029e-02]\n",
      "  [-1.37575492e-02 -1.77796260e-02 -3.85793224e-02 -2.71731969e-02\n",
      "    4.97921817e-02 -2.12940816e-02 -1.10156834e-05 -4.52017784e-03\n",
      "   -4.26460281e-02  2.93339528e-02]\n",
      "  [-3.30192223e-02 -2.54451632e-02 -3.38287577e-02 -2.22922564e-02\n",
      "   -3.03886887e-02  4.37192656e-02 -2.11063270e-02 -1.46467462e-02\n",
      "    4.35525179e-03  4.37355749e-02]\n",
      "  [ 6.64127991e-03  4.93871085e-02 -6.83660433e-03  4.35299389e-02\n",
      "   -3.25725079e-02  4.42781709e-02  1.75059922e-02  2.19251849e-02\n",
      "   -3.09284329e-02  4.19664495e-02]\n",
      "  [-4.28912900e-02 -1.79511681e-02  2.75081508e-02  3.33385207e-02\n",
      "   -7.53987953e-03  2.39945687e-02 -2.09750887e-02 -3.42575535e-02\n",
      "    4.87361439e-02 -2.92888284e-02]\n",
      "  [ 1.07850544e-02 -3.14398557e-02 -2.83878576e-02 -4.02519107e-02\n",
      "    4.52972986e-02  1.40682608e-03 -9.34469700e-03  4.27369028e-03\n",
      "   -2.10539699e-02 -3.21093798e-02]]\n",
      "\n",
      " [[-3.46348509e-02  1.04036182e-03  9.86766815e-03 -2.18022615e-04\n",
      "    4.09936942e-02 -6.91156462e-03 -3.80716547e-02 -1.01014487e-02\n",
      "    3.09529044e-02 -2.40746029e-02]\n",
      "  [-3.46348509e-02  1.04036182e-03  9.86766815e-03 -2.18022615e-04\n",
      "    4.09936942e-02 -6.91156462e-03 -3.80716547e-02 -1.01014487e-02\n",
      "    3.09529044e-02 -2.40746029e-02]\n",
      "  [-3.46348509e-02  1.04036182e-03  9.86766815e-03 -2.18022615e-04\n",
      "    4.09936942e-02 -6.91156462e-03 -3.80716547e-02 -1.01014487e-02\n",
      "    3.09529044e-02 -2.40746029e-02]\n",
      "  [-1.37575492e-02 -1.77796260e-02 -3.85793224e-02 -2.71731969e-02\n",
      "    4.97921817e-02 -2.12940816e-02 -1.10156834e-05 -4.52017784e-03\n",
      "   -4.26460281e-02  2.93339528e-02]\n",
      "  [-3.30192223e-02 -2.54451632e-02 -3.38287577e-02 -2.22922564e-02\n",
      "   -3.03886887e-02  4.37192656e-02 -2.11063270e-02 -1.46467462e-02\n",
      "    4.35525179e-03  4.37355749e-02]\n",
      "  [ 6.64127991e-03  4.93871085e-02 -6.83660433e-03  4.35299389e-02\n",
      "   -3.25725079e-02  4.42781709e-02  1.75059922e-02  2.19251849e-02\n",
      "   -3.09284329e-02  4.19664495e-02]\n",
      "  [-4.28912900e-02 -1.79511681e-02  2.75081508e-02  3.33385207e-02\n",
      "   -7.53987953e-03  2.39945687e-02 -2.09750887e-02 -3.42575535e-02\n",
      "    4.87361439e-02 -2.92888284e-02]\n",
      "  [-4.08170372e-03 -3.33379954e-04 -1.19605176e-02  3.86667959e-02\n",
      "   -1.69533715e-02  3.93369459e-02 -9.80534405e-03 -4.51929942e-02\n",
      "   -1.31549723e-02 -2.41358206e-03]]\n",
      "\n",
      " [[-3.46348509e-02  1.04036182e-03  9.86766815e-03 -2.18022615e-04\n",
      "    4.09936942e-02 -6.91156462e-03 -3.80716547e-02 -1.01014487e-02\n",
      "    3.09529044e-02 -2.40746029e-02]\n",
      "  [-3.46348509e-02  1.04036182e-03  9.86766815e-03 -2.18022615e-04\n",
      "    4.09936942e-02 -6.91156462e-03 -3.80716547e-02 -1.01014487e-02\n",
      "    3.09529044e-02 -2.40746029e-02]\n",
      "  [-3.46348509e-02  1.04036182e-03  9.86766815e-03 -2.18022615e-04\n",
      "    4.09936942e-02 -6.91156462e-03 -3.80716547e-02 -1.01014487e-02\n",
      "    3.09529044e-02 -2.40746029e-02]\n",
      "  [ 2.55875029e-02  3.85492928e-02 -1.19252205e-02  4.49657924e-02\n",
      "   -1.99304707e-02 -5.67752123e-03 -1.70232765e-02  4.37401272e-02\n",
      "   -4.39753048e-02 -2.60913372e-02]\n",
      "  [ 4.53752913e-02  6.35540485e-03 -6.10323995e-03  3.27641107e-02\n",
      "   -4.55806032e-02  1.40882991e-02 -6.68748468e-03 -4.60236669e-02\n",
      "   -2.60941740e-02  1.25113390e-02]\n",
      "  [ 1.62371881e-02 -3.11387666e-02 -3.78204957e-02  2.48297490e-02\n",
      "    2.15624310e-02 -3.89870405e-02  1.04582310e-02 -2.23009940e-02\n",
      "    4.46770452e-02  1.23549104e-02]\n",
      "  [-1.13222487e-02 -1.67644247e-02  4.19405438e-02 -1.06224641e-02\n",
      "    3.02480198e-02  2.09367387e-02  4.84101512e-02 -9.20470804e-03\n",
      "   -1.56363137e-02  4.63095792e-02]\n",
      "  [ 2.84361281e-02 -4.74939942e-02 -2.43918896e-02 -8.87612253e-03\n",
      "    4.84174490e-03 -1.14183649e-02  7.43013620e-03 -4.28895615e-02\n",
      "   -1.08885765e-02 -1.94818377e-02]]\n",
      "\n",
      " [[-3.46348509e-02  1.04036182e-03  9.86766815e-03 -2.18022615e-04\n",
      "    4.09936942e-02 -6.91156462e-03 -3.80716547e-02 -1.01014487e-02\n",
      "    3.09529044e-02 -2.40746029e-02]\n",
      "  [-3.46348509e-02  1.04036182e-03  9.86766815e-03 -2.18022615e-04\n",
      "    4.09936942e-02 -6.91156462e-03 -3.80716547e-02 -1.01014487e-02\n",
      "    3.09529044e-02 -2.40746029e-02]\n",
      "  [-3.46348509e-02  1.04036182e-03  9.86766815e-03 -2.18022615e-04\n",
      "    4.09936942e-02 -6.91156462e-03 -3.80716547e-02 -1.01014487e-02\n",
      "    3.09529044e-02 -2.40746029e-02]\n",
      "  [-3.46348509e-02  1.04036182e-03  9.86766815e-03 -2.18022615e-04\n",
      "    4.09936942e-02 -6.91156462e-03 -3.80716547e-02 -1.01014487e-02\n",
      "    3.09529044e-02 -2.40746029e-02]\n",
      "  [-4.73965779e-02 -4.76325750e-02  4.37718518e-02  1.79754570e-03\n",
      "   -4.60739248e-02 -4.66854498e-03  1.91945471e-02 -2.23528631e-02\n",
      "   -5.78474998e-03  3.69437039e-05]\n",
      "  [-7.40934163e-04  4.99284528e-02  1.76510960e-03  9.95152071e-03\n",
      "    3.21468450e-02  4.73896414e-03 -4.86024991e-02 -3.04482821e-02\n",
      "    4.81871851e-02  9.68731940e-04]\n",
      "  [ 2.77723186e-02  7.38264248e-03  3.67656015e-02  4.03163917e-02\n",
      "    4.63386625e-03  2.15069167e-02  3.06310095e-02 -7.39985704e-03\n",
      "    2.09465139e-02 -7.39195198e-03]\n",
      "  [-4.28912900e-02 -1.79511681e-02  2.75081508e-02  3.33385207e-02\n",
      "   -7.53987953e-03  2.39945687e-02 -2.09750887e-02 -3.42575535e-02\n",
      "    4.87361439e-02 -2.92888284e-02]]]\n"
     ]
    }
   ],
   "source": [
    "print(model.predict(embedded_docs))"
   ]
  },
  {
   "cell_type": "code",
   "execution_count": 20,
   "id": "67443f1d",
   "metadata": {},
   "outputs": [
    {
     "data": {
      "text/plain": [
       "array([   0,    0,    0,    0, 8354, 7660, 1035, 4559], dtype=int32)"
      ]
     },
     "execution_count": 20,
     "metadata": {},
     "output_type": "execute_result"
    }
   ],
   "source": [
    "embedded_docs[0]"
   ]
  },
  {
   "cell_type": "code",
   "execution_count": 21,
   "id": "9ff90ad4",
   "metadata": {},
   "outputs": [
    {
     "name": "stdout",
     "output_type": "stream",
     "text": [
      "\u001b[1m1/1\u001b[0m \u001b[32m━━━━━━━━━━━━━━━━━━━━\u001b[0m\u001b[37m\u001b[0m \u001b[1m0s\u001b[0m 12ms/step\n",
      "[[-0.03463485  0.00104036  0.00986767 -0.00021802  0.04099369 -0.00691156\n",
      "  -0.03807165 -0.01010145  0.0309529  -0.0240746 ]\n",
      " [-0.03463485  0.00104036  0.00986767 -0.00021802  0.04099369 -0.00691156\n",
      "  -0.03807165 -0.01010145  0.0309529  -0.0240746 ]\n",
      " [-0.03463485  0.00104036  0.00986767 -0.00021802  0.04099369 -0.00691156\n",
      "  -0.03807165 -0.01010145  0.0309529  -0.0240746 ]\n",
      " [-0.03463485  0.00104036  0.00986767 -0.00021802  0.04099369 -0.00691156\n",
      "  -0.03807165 -0.01010145  0.0309529  -0.0240746 ]\n",
      " [ 0.04537529  0.0063554  -0.00610324  0.03276411 -0.0455806   0.0140883\n",
      "  -0.00668748 -0.04602367 -0.02609417  0.01251134]\n",
      " [ 0.00397755  0.04251135 -0.02444389 -0.00695695 -0.03962634 -0.01121888\n",
      "  -0.03749262 -0.04702077 -0.02759885  0.04969777]\n",
      " [-0.01132225 -0.01676442  0.04194054 -0.01062246  0.03024802  0.02093674\n",
      "   0.04841015 -0.00920471 -0.01563631  0.04630958]\n",
      " [ 0.02661098  0.01811397 -0.02343627 -0.01229504  0.04986386 -0.04315249\n",
      "   0.02461114 -0.00447962 -0.04405501  0.04113332]]\n"
     ]
    }
   ],
   "source": [
    "print(model.predict(embedded_docs)[0])"
   ]
  },
  {
   "cell_type": "code",
   "execution_count": null,
   "id": "90ac658b",
   "metadata": {},
   "outputs": [],
   "source": []
  }
 ],
 "metadata": {
  "kernelspec": {
   "display_name": "Python 3 (ipykernel)",
   "language": "python",
   "name": "python3"
  },
  "language_info": {
   "codemirror_mode": {
    "name": "ipython",
    "version": 3
   },
   "file_extension": ".py",
   "mimetype": "text/x-python",
   "name": "python",
   "nbconvert_exporter": "python",
   "pygments_lexer": "ipython3",
   "version": "3.11.5"
  }
 },
 "nbformat": 4,
 "nbformat_minor": 5
}
