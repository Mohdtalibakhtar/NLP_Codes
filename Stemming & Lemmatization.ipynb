{
 "cells": [
  {
   "cell_type": "code",
   "execution_count": 14,
   "id": "0a0e808e",
   "metadata": {},
   "outputs": [],
   "source": [
    "# Import the necessary library\n",
    "import nltk\n",
    "from nltk.stem import PorterStemmer\n",
    "from nltk.tokenize import word_tokenize"
   ]
  },
  {
   "cell_type": "code",
   "execution_count": 15,
   "id": "05e1c84a",
   "metadata": {},
   "outputs": [
    {
     "name": "stdout",
     "output_type": "stream",
     "text": [
      "showing info https://raw.githubusercontent.com/nltk/nltk_data/gh-pages/index.xml\n"
     ]
    },
    {
     "data": {
      "text/plain": [
       "True"
      ]
     },
     "execution_count": 15,
     "metadata": {},
     "output_type": "execute_result"
    }
   ],
   "source": [
    "nltk.download()"
   ]
  },
  {
   "cell_type": "markdown",
   "id": "809a961b",
   "metadata": {},
   "source": [
    "## Stemming"
   ]
  },
  {
   "cell_type": "code",
   "execution_count": 16,
   "id": "193c1d82",
   "metadata": {},
   "outputs": [],
   "source": [
    "# Initialize the Porter Stemmer\n",
    "porter = PorterStemmer()"
   ]
  },
  {
   "cell_type": "code",
   "execution_count": 17,
   "id": "42eba8da",
   "metadata": {},
   "outputs": [],
   "source": [
    "# Example text\n",
    "text = \"The leaves on the trees are falling rapidly due to the seasonal changes.\""
   ]
  },
  {
   "cell_type": "code",
   "execution_count": 18,
   "id": "eec6ba78",
   "metadata": {},
   "outputs": [],
   "source": [
    "# Tokenize the text into individual words\n",
    "tokens = word_tokenize(text)"
   ]
  },
  {
   "cell_type": "code",
   "execution_count": 19,
   "id": "43f491ad",
   "metadata": {},
   "outputs": [],
   "source": [
    "# Apply stemming to each word in the tokenized text\n",
    "stemmed_words = [porter.stem(word) for word in tokens]"
   ]
  },
  {
   "cell_type": "code",
   "execution_count": 20,
   "id": "53d8ffd5",
   "metadata": {},
   "outputs": [
    {
     "name": "stdout",
     "output_type": "stream",
     "text": [
      "Original Words: ['The', 'leaves', 'on', 'the', 'trees', 'are', 'falling', 'rapidly', 'due', 'to', 'the', 'seasonal', 'changes', '.']\n",
      "Stemmed Words: ['the', 'leav', 'on', 'the', 'tree', 'are', 'fall', 'rapidli', 'due', 'to', 'the', 'season', 'chang', '.']\n"
     ]
    }
   ],
   "source": [
    "# Print the original words and their stemmed versions\n",
    "print(\"Original Words:\", tokens)\n",
    "print(\"Stemmed Words:\", stemmed_words)"
   ]
  },
  {
   "cell_type": "markdown",
   "id": "8f6decec",
   "metadata": {},
   "source": [
    "## Lemmatization"
   ]
  },
  {
   "cell_type": "code",
   "execution_count": 21,
   "id": "a5f33045",
   "metadata": {},
   "outputs": [],
   "source": [
    "from nltk.stem import WordNetLemmatizer"
   ]
  },
  {
   "cell_type": "code",
   "execution_count": 22,
   "id": "1a652d81",
   "metadata": {},
   "outputs": [],
   "source": [
    "# Initialize the WordNet Lemmatizer\n",
    "lemmatizer = WordNetLemmatizer()"
   ]
  },
  {
   "cell_type": "code",
   "execution_count": 23,
   "id": "9a340f9d",
   "metadata": {},
   "outputs": [],
   "source": [
    "# Lemmatize each word\n",
    "# Note: For more accurate lemmatization, you should determine the part of speech for each word,\n",
    "# but for simplicity, this example lemmatizes without specifying the part of speech.\n",
    "lemmatized_words = [lemmatizer.lemmatize(word) for word in tokens]"
   ]
  },
  {
   "cell_type": "code",
   "execution_count": 24,
   "id": "f9e84cf5",
   "metadata": {},
   "outputs": [
    {
     "name": "stdout",
     "output_type": "stream",
     "text": [
      "Original Words: ['The', 'leaves', 'on', 'the', 'trees', 'are', 'falling', 'rapidly', 'due', 'to', 'the', 'seasonal', 'changes', '.']\n",
      "Lemmatized Words: ['The', 'leaf', 'on', 'the', 'tree', 'are', 'falling', 'rapidly', 'due', 'to', 'the', 'seasonal', 'change', '.']\n"
     ]
    }
   ],
   "source": [
    "# Print the original words and their lemmatized versions\n",
    "print(\"Original Words:\", tokens)\n",
    "print(\"Lemmatized Words:\", lemmatized_words)"
   ]
  },
  {
   "cell_type": "code",
   "execution_count": null,
   "id": "c1c76e36",
   "metadata": {},
   "outputs": [],
   "source": []
  }
 ],
 "metadata": {
  "kernelspec": {
   "display_name": "Python 3 (ipykernel)",
   "language": "python",
   "name": "python3"
  },
  "language_info": {
   "codemirror_mode": {
    "name": "ipython",
    "version": 3
   },
   "file_extension": ".py",
   "mimetype": "text/x-python",
   "name": "python",
   "nbconvert_exporter": "python",
   "pygments_lexer": "ipython3",
   "version": "3.11.5"
  }
 },
 "nbformat": 4,
 "nbformat_minor": 5
}
